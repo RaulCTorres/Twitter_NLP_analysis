{
 "cells": [
  {
   "cell_type": "code",
   "execution_count": 2,
   "metadata": {},
   "outputs": [],
   "source": [
    "import pandas as pd"
   ]
  },
  {
   "cell_type": "code",
   "execution_count": 3,
   "metadata": {},
   "outputs": [],
   "source": [
    "from sklearn.model_selection import train_test_split, GridSearchCV, RandomizedSearchCV\n",
    "from nltk.sentiment.vader import SentimentIntensityAnalyzer"
   ]
  },
  {
   "cell_type": "code",
   "execution_count": 4,
   "metadata": {},
   "outputs": [],
   "source": [
    "import os\n",
    "import sys\n",
    "module_path = os.path.abspath(os.path.join(os.pardir, os.pardir))\n",
    "if module_path not in sys.path:\n",
    "    sys.path.append(module_path)\n",
    "    \n",
    "import pandas as pd\n",
    "import nltk\n",
    "from nltk.probability import FreqDist\n",
    "from nltk.corpus import stopwords\n",
    "from nltk.tokenize import regexp_tokenize, word_tokenize, RegexpTokenizer\n",
    "from nltk import pos_tag\n",
    "from nltk.corpus import wordnet\n",
    "import matplotlib.pyplot as plt\n",
    "import string\n",
    "import re\n",
    "from sklearn.feature_extraction.text import CountVectorizer, TfidfVectorizer,\\\n",
    "HashingVectorizer\n",
    "\n",
    "from sklearn.metrics import mean_squared_error, r2_score, confusion_matrix, \\\n",
    "plot_confusion_matrix,  precision_score, recall_score, accuracy_score, f1_score, \\\n",
    "log_loss, roc_curve, roc_auc_score, classification_report, plot_roc_curve"
   ]
  },
  {
   "cell_type": "code",
   "execution_count": 5,
   "metadata": {},
   "outputs": [
    {
     "data": {
      "text/html": [
       "<div>\n",
       "<style scoped>\n",
       "    .dataframe tbody tr th:only-of-type {\n",
       "        vertical-align: middle;\n",
       "    }\n",
       "\n",
       "    .dataframe tbody tr th {\n",
       "        vertical-align: top;\n",
       "    }\n",
       "\n",
       "    .dataframe thead th {\n",
       "        text-align: right;\n",
       "    }\n",
       "</style>\n",
       "<table border=\"1\" class=\"dataframe\">\n",
       "  <thead>\n",
       "    <tr style=\"text-align: right;\">\n",
       "      <th></th>\n",
       "      <th>tweet_text</th>\n",
       "      <th>emotion_in_tweet_is_directed_at</th>\n",
       "      <th>is_there_an_emotion_directed_at_a_brand_or_product</th>\n",
       "    </tr>\n",
       "  </thead>\n",
       "  <tbody>\n",
       "    <tr>\n",
       "      <th>0</th>\n",
       "      <td>.@wesley83 I have a 3G iPhone. After 3 hrs twe...</td>\n",
       "      <td>iPhone</td>\n",
       "      <td>Negative emotion</td>\n",
       "    </tr>\n",
       "    <tr>\n",
       "      <th>1</th>\n",
       "      <td>@jessedee Know about @fludapp ? Awesome iPad/i...</td>\n",
       "      <td>iPad or iPhone App</td>\n",
       "      <td>Positive emotion</td>\n",
       "    </tr>\n",
       "    <tr>\n",
       "      <th>2</th>\n",
       "      <td>@swonderlin Can not wait for #iPad 2 also. The...</td>\n",
       "      <td>iPad</td>\n",
       "      <td>Positive emotion</td>\n",
       "    </tr>\n",
       "    <tr>\n",
       "      <th>3</th>\n",
       "      <td>@sxsw I hope this year's festival isn't as cra...</td>\n",
       "      <td>iPad or iPhone App</td>\n",
       "      <td>Negative emotion</td>\n",
       "    </tr>\n",
       "    <tr>\n",
       "      <th>4</th>\n",
       "      <td>@sxtxstate great stuff on Fri #SXSW: Marissa M...</td>\n",
       "      <td>Google</td>\n",
       "      <td>Positive emotion</td>\n",
       "    </tr>\n",
       "    <tr>\n",
       "      <th>...</th>\n",
       "      <td>...</td>\n",
       "      <td>...</td>\n",
       "      <td>...</td>\n",
       "    </tr>\n",
       "    <tr>\n",
       "      <th>9088</th>\n",
       "      <td>Ipad everywhere. #SXSW {link}</td>\n",
       "      <td>iPad</td>\n",
       "      <td>Positive emotion</td>\n",
       "    </tr>\n",
       "    <tr>\n",
       "      <th>9089</th>\n",
       "      <td>Wave, buzz... RT @mention We interrupt your re...</td>\n",
       "      <td>NaN</td>\n",
       "      <td>No emotion toward brand or product</td>\n",
       "    </tr>\n",
       "    <tr>\n",
       "      <th>9090</th>\n",
       "      <td>Google's Zeiger, a physician never reported po...</td>\n",
       "      <td>NaN</td>\n",
       "      <td>No emotion toward brand or product</td>\n",
       "    </tr>\n",
       "    <tr>\n",
       "      <th>9091</th>\n",
       "      <td>Some Verizon iPhone customers complained their...</td>\n",
       "      <td>NaN</td>\n",
       "      <td>No emotion toward brand or product</td>\n",
       "    </tr>\n",
       "    <tr>\n",
       "      <th>9092</th>\n",
       "      <td>Ï¡Ïàü_ÊÎÒ£Áââ_£â_ÛâRT @...</td>\n",
       "      <td>NaN</td>\n",
       "      <td>No emotion toward brand or product</td>\n",
       "    </tr>\n",
       "  </tbody>\n",
       "</table>\n",
       "<p>9093 rows × 3 columns</p>\n",
       "</div>"
      ],
      "text/plain": [
       "                                             tweet_text  \\\n",
       "0     .@wesley83 I have a 3G iPhone. After 3 hrs twe...   \n",
       "1     @jessedee Know about @fludapp ? Awesome iPad/i...   \n",
       "2     @swonderlin Can not wait for #iPad 2 also. The...   \n",
       "3     @sxsw I hope this year's festival isn't as cra...   \n",
       "4     @sxtxstate great stuff on Fri #SXSW: Marissa M...   \n",
       "...                                                 ...   \n",
       "9088                      Ipad everywhere. #SXSW {link}   \n",
       "9089  Wave, buzz... RT @mention We interrupt your re...   \n",
       "9090  Google's Zeiger, a physician never reported po...   \n",
       "9091  Some Verizon iPhone customers complained their...   \n",
       "9092  Ï¡Ïàü_ÊÎÒ£Áââ_£â_ÛâRT @...   \n",
       "\n",
       "     emotion_in_tweet_is_directed_at  \\\n",
       "0                             iPhone   \n",
       "1                 iPad or iPhone App   \n",
       "2                               iPad   \n",
       "3                 iPad or iPhone App   \n",
       "4                             Google   \n",
       "...                              ...   \n",
       "9088                            iPad   \n",
       "9089                             NaN   \n",
       "9090                             NaN   \n",
       "9091                             NaN   \n",
       "9092                             NaN   \n",
       "\n",
       "     is_there_an_emotion_directed_at_a_brand_or_product  \n",
       "0                                      Negative emotion  \n",
       "1                                      Positive emotion  \n",
       "2                                      Positive emotion  \n",
       "3                                      Negative emotion  \n",
       "4                                      Positive emotion  \n",
       "...                                                 ...  \n",
       "9088                                   Positive emotion  \n",
       "9089                 No emotion toward brand or product  \n",
       "9090                 No emotion toward brand or product  \n",
       "9091                 No emotion toward brand or product  \n",
       "9092                 No emotion toward brand or product  \n",
       "\n",
       "[9093 rows x 3 columns]"
      ]
     },
     "execution_count": 5,
     "metadata": {},
     "output_type": "execute_result"
    }
   ],
   "source": [
    "df = pd.read_csv('../Data/judge-1377884607_tweet_product_company.csv', encoding='Latin-1')\n",
    "df"
   ]
  },
  {
   "cell_type": "code",
   "execution_count": 6,
   "metadata": {},
   "outputs": [
    {
     "data": {
      "text/plain": [
       "1"
      ]
     },
     "execution_count": 6,
     "metadata": {},
     "output_type": "execute_result"
    }
   ],
   "source": [
    "# check for nulls on tweet_text\n",
    "df['tweet_text'].isna().sum()"
   ]
  },
  {
   "cell_type": "code",
   "execution_count": 7,
   "metadata": {},
   "outputs": [
    {
     "data": {
      "text/plain": [
       "No emotion toward brand or product    5389\n",
       "Positive emotion                      2978\n",
       "Negative emotion                       570\n",
       "I can't tell                           156\n",
       "Name: is_there_an_emotion_directed_at_a_brand_or_product, dtype: int64"
      ]
     },
     "execution_count": 7,
     "metadata": {},
     "output_type": "execute_result"
    }
   ],
   "source": [
    "df['is_there_an_emotion_directed_at_a_brand_or_product'].value_counts()"
   ]
  },
  {
   "cell_type": "code",
   "execution_count": 8,
   "metadata": {},
   "outputs": [
    {
     "data": {
      "text/plain": [
       "iPad                               946\n",
       "Apple                              661\n",
       "iPad or iPhone App                 470\n",
       "Google                             430\n",
       "iPhone                             297\n",
       "Other Google product or service    293\n",
       "Android App                         81\n",
       "Android                             78\n",
       "Other Apple product or service      35\n",
       "Name: emotion_in_tweet_is_directed_at, dtype: int64"
      ]
     },
     "execution_count": 8,
     "metadata": {},
     "output_type": "execute_result"
    }
   ],
   "source": [
    "df['emotion_in_tweet_is_directed_at'].value_counts()"
   ]
  },
  {
   "cell_type": "code",
   "execution_count": 9,
   "metadata": {},
   "outputs": [],
   "source": [
    "# replace iPhone to Apple\n",
    "df['emotion_in_tweet_is_directed_at'].replace(to_replace='iPhone', value='Apple', inplace=True)"
   ]
  },
  {
   "cell_type": "code",
   "execution_count": 10,
   "metadata": {},
   "outputs": [],
   "source": [
    "# replace ipad or iphone app to apple \n",
    "df['emotion_in_tweet_is_directed_at'].replace(to_replace='iPad or iPhone App', value='Apple', inplace=True)"
   ]
  },
  {
   "cell_type": "code",
   "execution_count": 11,
   "metadata": {},
   "outputs": [],
   "source": [
    "# replace ipad or iphone app to apple \n",
    "df['emotion_in_tweet_is_directed_at'].replace(to_replace='iPad', value='Apple', inplace=True)"
   ]
  },
  {
   "cell_type": "code",
   "execution_count": 12,
   "metadata": {},
   "outputs": [],
   "source": [
    "# replace ther Apple pr to apple \n",
    "df['emotion_in_tweet_is_directed_at'].replace(to_replace='Other Apple product or service', value='Apple', inplace=True)"
   ]
  },
  {
   "cell_type": "code",
   "execution_count": 13,
   "metadata": {
    "scrolled": true
   },
   "outputs": [
    {
     "data": {
      "text/plain": [
       "Apple                              2409\n",
       "Google                              430\n",
       "Other Google product or service     293\n",
       "Android App                          81\n",
       "Android                              78\n",
       "Name: emotion_in_tweet_is_directed_at, dtype: int64"
      ]
     },
     "execution_count": 13,
     "metadata": {},
     "output_type": "execute_result"
    }
   ],
   "source": [
    "df['emotion_in_tweet_is_directed_at'].value_counts()"
   ]
  },
  {
   "cell_type": "code",
   "execution_count": 14,
   "metadata": {},
   "outputs": [],
   "source": [
    "# replace Android App to Google\n",
    "df['emotion_in_tweet_is_directed_at'].replace(to_replace='Android App', value='Google', inplace=True)"
   ]
  },
  {
   "cell_type": "code",
   "execution_count": 15,
   "metadata": {},
   "outputs": [],
   "source": [
    "# replace ther Google product or service App to Google\n",
    "df['emotion_in_tweet_is_directed_at'].replace(to_replace='Other Google product or service', value='Google', inplace=True)"
   ]
  },
  {
   "cell_type": "code",
   "execution_count": 16,
   "metadata": {},
   "outputs": [],
   "source": [
    "# replace \"Android\" to Google\n",
    "df['emotion_in_tweet_is_directed_at'].replace(to_replace='Android', value='Google', inplace=True)"
   ]
  },
  {
   "cell_type": "code",
   "execution_count": 17,
   "metadata": {
    "scrolled": true
   },
   "outputs": [
    {
     "data": {
      "text/plain": [
       "Apple     2409\n",
       "Google     882\n",
       "Name: emotion_in_tweet_is_directed_at, dtype: int64"
      ]
     },
     "execution_count": 17,
     "metadata": {},
     "output_type": "execute_result"
    }
   ],
   "source": [
    "df['emotion_in_tweet_is_directed_at'].value_counts()"
   ]
  },
  {
   "cell_type": "code",
   "execution_count": 18,
   "metadata": {},
   "outputs": [],
   "source": [
    "X = df['tweet_text']\n",
    "y = df['is_there_an_emotion_directed_at_a_brand_or_product']\n",
    "X_train, X_test, y_train, y_test = train_test_split(X, y, random_state=42)"
   ]
  },
  {
   "cell_type": "code",
   "execution_count": 19,
   "metadata": {},
   "outputs": [
    {
     "data": {
      "text/plain": [
       "\"@jessedee Know about @fludapp ? Awesome iPad/iPhone app that you'll likely appreciate for its design. Also, they're giving free Ts at #SXSW\""
      ]
     },
     "execution_count": 19,
     "metadata": {},
     "output_type": "execute_result"
    }
   ],
   "source": [
    "sample_document = df['tweet_text'][1]\n",
    "sample_document"
   ]
  },
  {
   "cell_type": "code",
   "execution_count": 20,
   "metadata": {},
   "outputs": [],
   "source": [
    "pattern = \"([a-zA-Z]+(?:'[a-z]+)?)\"\n",
    "tokenizer = RegexpTokenizer(pattern)\n",
    "sample_doc = tokenizer.tokenize(sample_document)\n",
    "sample_doc = [token.lower() for token in sample_doc]\n",
    "sw = stopwords.words('english')\n",
    "sample_doc = [token for token in sample_doc if token not in sw]\n"
   ]
  },
  {
   "cell_type": "code",
   "execution_count": 21,
   "metadata": {},
   "outputs": [
    {
     "data": {
      "text/plain": [
       "['jessedee',\n",
       " 'know',\n",
       " 'fludapp',\n",
       " 'awesome',\n",
       " 'ipad',\n",
       " 'iphone',\n",
       " 'app',\n",
       " 'likely',\n",
       " 'appreciate',\n",
       " 'design',\n",
       " 'also',\n",
       " \"they're\",\n",
       " 'giving',\n",
       " 'free',\n",
       " 'ts',\n",
       " 'sxsw']"
      ]
     },
     "execution_count": 21,
     "metadata": {},
     "output_type": "execute_result"
    }
   ],
   "source": [
    "sample_doc"
   ]
  },
  {
   "cell_type": "code",
   "execution_count": 22,
   "metadata": {},
   "outputs": [],
   "source": [
    "# dropping the null value\n",
    "df.dropna(subset=['tweet_text'], how='all', inplace=True)"
   ]
  },
  {
   "cell_type": "code",
   "execution_count": 23,
   "metadata": {
    "scrolled": true
   },
   "outputs": [
    {
     "data": {
      "text/plain": [
       "0"
      ]
     },
     "execution_count": 23,
     "metadata": {},
     "output_type": "execute_result"
    }
   ],
   "source": [
    "# checking it has been dropped\n",
    "df['tweet_text'].isna().sum()"
   ]
  },
  {
   "cell_type": "code",
   "execution_count": 24,
   "metadata": {
    "scrolled": true
   },
   "outputs": [],
   "source": [
    "# clean the text\n",
    "# create a function\n",
    "def cleanTxt(text):\n",
    "    text = re.sub(r'@[A-Za-z0-9]+', '', text)  #remove @ mentions\n",
    "    text = re.sub(r'#', '', text)   #remove the '# symbol'\n",
    "    text = re.sub(r'RT[\\s]+', '', text)   #remove RT retweet\n",
    "    text = re.sub(r'https?:\\/\\/\\S+', '', text)  #remove the hyper link\n",
    "    \n",
    "    return text\n",
    "\n",
    "#cleaning the text\n",
    "df['tweet_text'] = df['tweet_text'].apply(cleanTxt)"
   ]
  },
  {
   "cell_type": "code",
   "execution_count": 25,
   "metadata": {},
   "outputs": [],
   "source": [
    "# We removed numbers and punctuation\n",
    "def remove_punct(text):\n",
    "    text  = \"\".join([char for char in text if char not in string.punctuation])\n",
    "    text = re.sub('[0-9]+', '', text)\n",
    "    return text\n",
    "\n",
    "df['tweet_text'] = df['tweet_text'].apply(lambda x: remove_punct(x))"
   ]
  },
  {
   "cell_type": "code",
   "execution_count": 26,
   "metadata": {},
   "outputs": [],
   "source": [
    "# @Terry: replaced Nan from second column to Apple or Google adding it to a fourth column\n",
    "def Find_Apple_or_Google(text):\n",
    "    category =''\n",
    "    pattern = \"([a-zA-Z]+(?:'[a-z]+)?)\"\n",
    "    tokenizer = RegexpTokenizer(pattern)\n",
    "    sample_doc = tokenizer.tokenize(text)\n",
    "    sample_doc = [token.lower() for token in sample_doc]\n",
    "    sw = stopwords.words('english')\n",
    "    sample_doc = [token for token in sample_doc if token not in sw]\n",
    "    ap = ['apple', 'ipad', 'iphone']\n",
    "    go = ['google','android']\n",
    "    if any((match := item) in sample_doc for item in ap):\n",
    "        return 'Apple'\n",
    "    elif any((match := item) in sample_doc for item in go):\n",
    "        return 'Google'\n",
    "    else:\n",
    "        return 'NAN'"
   ]
  },
  {
   "cell_type": "code",
   "execution_count": 27,
   "metadata": {},
   "outputs": [],
   "source": [
    "ap = ['apple', 'ipad', 'iphone']\n",
    "go = ['google','android']"
   ]
  },
  {
   "cell_type": "code",
   "execution_count": 28,
   "metadata": {},
   "outputs": [
    {
     "name": "stdout",
     "output_type": "stream",
     "text": [
      "ipad\n"
     ]
    }
   ],
   "source": [
    "if any((match := item) in sample_doc for item in ap):\n",
    "   \n",
    "    print(match)\n"
   ]
  },
  {
   "cell_type": "code",
   "execution_count": 29,
   "metadata": {},
   "outputs": [
    {
     "name": "stdout",
     "output_type": "stream",
     "text": [
      "ipad\n"
     ]
    }
   ],
   "source": [
    "if any((match := item) in sample_doc for item in ap):\n",
    "   \n",
    "    print(match)\n"
   ]
  },
  {
   "cell_type": "code",
   "execution_count": 30,
   "metadata": {},
   "outputs": [],
   "source": [
    "df['Product_Category'] = df['tweet_text'].apply(lambda x: Find_Apple_or_Google(x))"
   ]
  },
  {
   "cell_type": "code",
   "execution_count": 31,
   "metadata": {},
   "outputs": [
    {
     "data": {
      "text/plain": [
       "Apple     5263\n",
       "Google    2481\n",
       "NAN       1348\n",
       "Name: Product_Category, dtype: int64"
      ]
     },
     "execution_count": 31,
     "metadata": {},
     "output_type": "execute_result"
    }
   ],
   "source": [
    "df['Product_Category'].value_counts() "
   ]
  },
  {
   "cell_type": "code",
   "execution_count": 32,
   "metadata": {},
   "outputs": [],
   "source": [
    "def tokenization(text):\n",
    "    pattern = \"([a-zA-Z]+(?:'[a-z]+)?)\"\n",
    "    tokenizer = RegexpTokenizer(pattern)\n",
    "    sample_doc = tokenizer.tokenize(text)\n",
    "    return sample_doc"
   ]
  },
  {
   "cell_type": "code",
   "execution_count": 33,
   "metadata": {},
   "outputs": [],
   "source": [
    "df['Tweet_tokenized'] = df['tweet_text'].apply(lambda x: tokenization(x.lower()))"
   ]
  },
  {
   "cell_type": "code",
   "execution_count": null,
   "metadata": {},
   "outputs": [],
   "source": []
  },
  {
   "cell_type": "code",
   "execution_count": 34,
   "metadata": {},
   "outputs": [],
   "source": [
    "# stopwords english \n",
    "stopword = nltk.corpus.stopwords.words('english')"
   ]
  },
  {
   "cell_type": "code",
   "execution_count": 35,
   "metadata": {},
   "outputs": [],
   "source": [
    "# adding sxsw to the stop words  \n",
    "new_stopwords = [\"sxsw\"]\n",
    "stopword.extend(new_stopwords)"
   ]
  },
  {
   "cell_type": "code",
   "execution_count": 36,
   "metadata": {},
   "outputs": [],
   "source": [
    "def remove_stopwords(text):\n",
    "    text = [word for word in text if word not in stopword]\n",
    "    return text"
   ]
  },
  {
   "cell_type": "code",
   "execution_count": 37,
   "metadata": {
    "scrolled": true
   },
   "outputs": [],
   "source": [
    "df['Tweet_nonstop'] = df['Tweet_tokenized'].apply(lambda x: remove_stopwords(x))"
   ]
  },
  {
   "cell_type": "code",
   "execution_count": 38,
   "metadata": {},
   "outputs": [],
   "source": [
    "ps = nltk.PorterStemmer()\n",
    "\n",
    "def stemming(text):\n",
    "    text = [ps.stem(word) for word in text]\n",
    "    return text\n"
   ]
  },
  {
   "cell_type": "code",
   "execution_count": 39,
   "metadata": {},
   "outputs": [],
   "source": [
    "df['Tweet_stemmed'] = df['Tweet_nonstop'].apply(lambda x: stemming(x))"
   ]
  },
  {
   "cell_type": "code",
   "execution_count": 40,
   "metadata": {},
   "outputs": [
    {
     "data": {
      "text/plain": [
       "' I have a G iPhone After  hrs tweeting at RISEAustin it was dead  I need to upgrade Plugin stations at SXSW'"
      ]
     },
     "execution_count": 40,
     "metadata": {},
     "output_type": "execute_result"
    }
   ],
   "source": [
    "df['tweet_text'][0]"
   ]
  },
  {
   "cell_type": "code",
   "execution_count": 41,
   "metadata": {},
   "outputs": [
    {
     "data": {
      "text/plain": [
       "['i',\n",
       " 'have',\n",
       " 'a',\n",
       " 'g',\n",
       " 'iphone',\n",
       " 'after',\n",
       " 'hrs',\n",
       " 'tweeting',\n",
       " 'at',\n",
       " 'riseaustin',\n",
       " 'it',\n",
       " 'was',\n",
       " 'dead',\n",
       " 'i',\n",
       " 'need',\n",
       " 'to',\n",
       " 'upgrade',\n",
       " 'plugin',\n",
       " 'stations',\n",
       " 'at',\n",
       " 'sxsw']"
      ]
     },
     "execution_count": 41,
     "metadata": {},
     "output_type": "execute_result"
    }
   ],
   "source": [
    "df['Tweet_tokenized'][0]"
   ]
  },
  {
   "cell_type": "code",
   "execution_count": 42,
   "metadata": {},
   "outputs": [
    {
     "data": {
      "text/plain": [
       "['g',\n",
       " 'iphon',\n",
       " 'hr',\n",
       " 'tweet',\n",
       " 'riseaustin',\n",
       " 'dead',\n",
       " 'need',\n",
       " 'upgrad',\n",
       " 'plugin',\n",
       " 'station']"
      ]
     },
     "execution_count": 42,
     "metadata": {},
     "output_type": "execute_result"
    }
   ],
   "source": [
    "df['Tweet_stemmed'][0]"
   ]
  },
  {
   "cell_type": "code",
   "execution_count": 43,
   "metadata": {
    "scrolled": true
   },
   "outputs": [
    {
     "name": "stderr",
     "output_type": "stream",
     "text": [
      "[nltk_data] Downloading package wordnet to\n",
      "[nltk_data]     C:\\Users\\Terry\\AppData\\Roaming\\nltk_data...\n",
      "[nltk_data]   Package wordnet is already up-to-date!\n"
     ]
    },
    {
     "data": {
      "text/html": [
       "<div>\n",
       "<style scoped>\n",
       "    .dataframe tbody tr th:only-of-type {\n",
       "        vertical-align: middle;\n",
       "    }\n",
       "\n",
       "    .dataframe tbody tr th {\n",
       "        vertical-align: top;\n",
       "    }\n",
       "\n",
       "    .dataframe thead th {\n",
       "        text-align: right;\n",
       "    }\n",
       "</style>\n",
       "<table border=\"1\" class=\"dataframe\">\n",
       "  <thead>\n",
       "    <tr style=\"text-align: right;\">\n",
       "      <th></th>\n",
       "      <th>tweet_text</th>\n",
       "      <th>emotion_in_tweet_is_directed_at</th>\n",
       "      <th>is_there_an_emotion_directed_at_a_brand_or_product</th>\n",
       "      <th>Product_Category</th>\n",
       "      <th>Tweet_tokenized</th>\n",
       "      <th>Tweet_nonstop</th>\n",
       "      <th>Tweet_stemmed</th>\n",
       "      <th>tweet_lemma</th>\n",
       "    </tr>\n",
       "  </thead>\n",
       "  <tbody>\n",
       "    <tr>\n",
       "      <th>9089</th>\n",
       "      <td>Wave buzz We interrupt your regularly schedule...</td>\n",
       "      <td>NaN</td>\n",
       "      <td>No emotion toward brand or product</td>\n",
       "      <td>Google</td>\n",
       "      <td>[wave, buzz, we, interrupt, your, regularly, s...</td>\n",
       "      <td>[wave, buzz, interrupt, regularly, scheduled, ...</td>\n",
       "      <td>[wave, buzz, interrupt, regularli, schedul, ge...</td>\n",
       "      <td>[wave, buzz, interrupt, regularly, scheduled, ...</td>\n",
       "    </tr>\n",
       "    <tr>\n",
       "      <th>9090</th>\n",
       "      <td>Googles Zeiger a physician never reported pote...</td>\n",
       "      <td>NaN</td>\n",
       "      <td>No emotion toward brand or product</td>\n",
       "      <td>NAN</td>\n",
       "      <td>[googles, zeiger, a, physician, never, reporte...</td>\n",
       "      <td>[googles, zeiger, physician, never, reported, ...</td>\n",
       "      <td>[googl, zeiger, physician, never, report, pote...</td>\n",
       "      <td>[google, zeiger, physician, never, reported, p...</td>\n",
       "    </tr>\n",
       "    <tr>\n",
       "      <th>9091</th>\n",
       "      <td>Some Verizon iPhone customers complained their...</td>\n",
       "      <td>NaN</td>\n",
       "      <td>No emotion toward brand or product</td>\n",
       "      <td>Apple</td>\n",
       "      <td>[some, verizon, iphone, customers, complained,...</td>\n",
       "      <td>[verizon, iphone, customers, complained, time,...</td>\n",
       "      <td>[verizon, iphon, custom, complain, time, fell,...</td>\n",
       "      <td>[verizon, iphone, customer, complained, time, ...</td>\n",
       "    </tr>\n",
       "    <tr>\n",
       "      <th>9092</th>\n",
       "      <td>Ï¡ÏàüÊÎÒ£Áââ£âÛâGoogle ...</td>\n",
       "      <td>NaN</td>\n",
       "      <td>No emotion toward brand or product</td>\n",
       "      <td>Google</td>\n",
       "      <td>[google, tests, checkin, offers, at, sxsw, link]</td>\n",
       "      <td>[google, tests, checkin, offers, link]</td>\n",
       "      <td>[googl, test, checkin, offer, link]</td>\n",
       "      <td>[google, test, checkin, offer, link]</td>\n",
       "    </tr>\n",
       "  </tbody>\n",
       "</table>\n",
       "</div>"
      ],
      "text/plain": [
       "                                             tweet_text  \\\n",
       "9089  Wave buzz We interrupt your regularly schedule...   \n",
       "9090  Googles Zeiger a physician never reported pote...   \n",
       "9091  Some Verizon iPhone customers complained their...   \n",
       "9092  Ï¡ÏàüÊÎÒ£Áââ£âÛâGoogle ...   \n",
       "\n",
       "     emotion_in_tweet_is_directed_at  \\\n",
       "9089                             NaN   \n",
       "9090                             NaN   \n",
       "9091                             NaN   \n",
       "9092                             NaN   \n",
       "\n",
       "     is_there_an_emotion_directed_at_a_brand_or_product Product_Category  \\\n",
       "9089                 No emotion toward brand or product           Google   \n",
       "9090                 No emotion toward brand or product              NAN   \n",
       "9091                 No emotion toward brand or product            Apple   \n",
       "9092                 No emotion toward brand or product           Google   \n",
       "\n",
       "                                        Tweet_tokenized  \\\n",
       "9089  [wave, buzz, we, interrupt, your, regularly, s...   \n",
       "9090  [googles, zeiger, a, physician, never, reporte...   \n",
       "9091  [some, verizon, iphone, customers, complained,...   \n",
       "9092   [google, tests, checkin, offers, at, sxsw, link]   \n",
       "\n",
       "                                          Tweet_nonstop  \\\n",
       "9089  [wave, buzz, interrupt, regularly, scheduled, ...   \n",
       "9090  [googles, zeiger, physician, never, reported, ...   \n",
       "9091  [verizon, iphone, customers, complained, time,...   \n",
       "9092             [google, tests, checkin, offers, link]   \n",
       "\n",
       "                                          Tweet_stemmed  \\\n",
       "9089  [wave, buzz, interrupt, regularli, schedul, ge...   \n",
       "9090  [googl, zeiger, physician, never, report, pote...   \n",
       "9091  [verizon, iphon, custom, complain, time, fell,...   \n",
       "9092                [googl, test, checkin, offer, link]   \n",
       "\n",
       "                                            tweet_lemma  \n",
       "9089  [wave, buzz, interrupt, regularly, scheduled, ...  \n",
       "9090  [google, zeiger, physician, never, reported, p...  \n",
       "9091  [verizon, iphone, customer, complained, time, ...  \n",
       "9092               [google, test, checkin, offer, link]  "
      ]
     },
     "execution_count": 43,
     "metadata": {},
     "output_type": "execute_result"
    }
   ],
   "source": [
    "# this concludes the cleaning \n",
    "nltk.download('wordnet')\n",
    "from nltk.stem import WordNetLemmatizer\n",
    "def word_lemmatizer(text):\n",
    "    lem_text = [WordNetLemmatizer().lemmatize(i) for i in text]\n",
    "    return lem_text\n",
    "df['tweet_lemma'] = df['Tweet_nonstop'].apply(lambda x: word_lemmatizer(x))\n",
    "df.tail(4)"
   ]
  },
  {
   "cell_type": "code",
   "execution_count": 44,
   "metadata": {},
   "outputs": [
    {
     "data": {
      "text/plain": [
       "No emotion toward brand or product    5388\n",
       "Positive emotion                      2978\n",
       "Negative emotion                       570\n",
       "I can't tell                           156\n",
       "Name: is_there_an_emotion_directed_at_a_brand_or_product, dtype: int64"
      ]
     },
     "execution_count": 44,
     "metadata": {},
     "output_type": "execute_result"
    }
   ],
   "source": [
    "df['is_there_an_emotion_directed_at_a_brand_or_product'].value_counts()"
   ]
  },
  {
   "cell_type": "code",
   "execution_count": 45,
   "metadata": {},
   "outputs": [],
   "source": [
    "import matplotlib.pyplot as plt\n",
    "from matplotlib.ticker import MaxNLocator\n",
    "def visualize_top_10(freq_dist, title):\n",
    "    # Extract data for plotting\n",
    "    top_10 = list(zip(*freq_dist.most_common(10)))\n",
    "    tokens = top_10[0]\n",
    "    counts = top_10[1]\n",
    "    # Set up plot and plot data\n",
    "    fig, ax = plt.subplots()\n",
    "    ax.bar(tokens, counts)\n",
    "    # Customize plot appearance\n",
    "    ax.set_title(title)\n",
    "    ax.set_ylabel(\"Count\")\n",
    "    ax.yaxis.set_major_locator(MaxNLocator(integer=True))\n",
    "    ax.tick_params(axis=\"x\", rotation=90)"
   ]
  },
  {
   "cell_type": "code",
   "execution_count": 46,
   "metadata": {},
   "outputs": [
    {
     "data": {
      "image/png": "[encoded data removed]",
      "text/plain": [
       "<Figure size 432x288 with 1 Axes>"
      ]
     },
     "metadata": {
      "needs_background": "light"
     },
     "output_type": "display_data"
    }
   ],
   "source": [
    "sample_freq_dist = FreqDist(df['Tweet_stemmed'].explode())\n",
    "visualize_top_10(sample_freq_dist, \"Top 10 Word Frequency for 5 Samples\")"
   ]
  },
  {
   "cell_type": "code",
   "execution_count": 47,
   "metadata": {},
   "outputs": [],
   "source": [
    "vec = CountVectorizer(token_pattern=r\"([a-zA-Z]+(?:'[a-z]+)?)\", stop_words=sw)"
   ]
  },
  {
   "cell_type": "code",
   "execution_count": 48,
   "metadata": {},
   "outputs": [],
   "source": [
    "# making 'tweet_lemma' into sentce instead of a list\n",
    "df['lemma_sentence'] =df['tweet_lemma'].apply(lambda x: \" \".join(x))\n"
   ]
  },
  {
   "cell_type": "code",
   "execution_count": 49,
   "metadata": {},
   "outputs": [],
   "source": [
    "# selecting only the positive and negative values from the dataset \n",
    "df1 = df[(df.is_there_an_emotion_directed_at_a_brand_or_product == 'Positive emotion') | (df.is_there_an_emotion_directed_at_a_brand_or_product == 'Negative emotion')]\n"
   ]
  },
  {
   "cell_type": "code",
   "execution_count": 50,
   "metadata": {
    "scrolled": true
   },
   "outputs": [
    {
     "data": {
      "text/plain": [
       "Positive emotion    2978\n",
       "Negative emotion     570\n",
       "Name: is_there_an_emotion_directed_at_a_brand_or_product, dtype: int64"
      ]
     },
     "execution_count": 50,
     "metadata": {},
     "output_type": "execute_result"
    }
   ],
   "source": [
    "# sanity check\n",
    "df1['is_there_an_emotion_directed_at_a_brand_or_product'].value_counts()"
   ]
  },
  {
   "cell_type": "code",
   "execution_count": 51,
   "metadata": {},
   "outputs": [
    {
     "data": {
      "text/plain": [
       "Apple     2337\n",
       "Google     854\n",
       "Name: emotion_in_tweet_is_directed_at, dtype: int64"
      ]
     },
     "execution_count": 51,
     "metadata": {},
     "output_type": "execute_result"
    }
   ],
   "source": [
    "df1['emotion_in_tweet_is_directed_at'].value_counts()"
   ]
  },
  {
   "cell_type": "code",
   "execution_count": 52,
   "metadata": {},
   "outputs": [
    {
     "data": {
      "text/plain": [
       "0        Apple\n",
       "1        Apple\n",
       "2        Apple\n",
       "3        Apple\n",
       "4       Google\n",
       "         ...  \n",
       "9077     Apple\n",
       "9079     Apple\n",
       "9080    Google\n",
       "9085     Apple\n",
       "9088     Apple\n",
       "Name: emotion_in_tweet_is_directed_at, Length: 3548, dtype: object"
      ]
     },
     "execution_count": 52,
     "metadata": {},
     "output_type": "execute_result"
    }
   ],
   "source": [
    "df1['emotion_in_tweet_is_directed_at']"
   ]
  },
  {
   "cell_type": "code",
   "execution_count": 53,
   "metadata": {},
   "outputs": [
    {
     "data": {
      "text/html": [
       "<div>\n",
       "<style scoped>\n",
       "    .dataframe tbody tr th:only-of-type {\n",
       "        vertical-align: middle;\n",
       "    }\n",
       "\n",
       "    .dataframe tbody tr th {\n",
       "        vertical-align: top;\n",
       "    }\n",
       "\n",
       "    .dataframe thead th {\n",
       "        text-align: right;\n",
       "    }\n",
       "</style>\n",
       "<table border=\"1\" class=\"dataframe\">\n",
       "  <thead>\n",
       "    <tr style=\"text-align: right;\">\n",
       "      <th></th>\n",
       "      <th>tweet_text</th>\n",
       "      <th>emotion_in_tweet_is_directed_at</th>\n",
       "      <th>is_there_an_emotion_directed_at_a_brand_or_product</th>\n",
       "      <th>Product_Category</th>\n",
       "      <th>Tweet_tokenized</th>\n",
       "      <th>Tweet_nonstop</th>\n",
       "      <th>Tweet_stemmed</th>\n",
       "      <th>tweet_lemma</th>\n",
       "      <th>lemma_sentence</th>\n",
       "    </tr>\n",
       "  </thead>\n",
       "  <tbody>\n",
       "    <tr>\n",
       "      <th>46</th>\n",
       "      <td>HandHeld Û÷HoboÛª Drafthouse launches Û÷Hob...</td>\n",
       "      <td>NaN</td>\n",
       "      <td>Positive emotion</td>\n",
       "      <td>Apple</td>\n",
       "      <td>[handheld, hobo, drafthouse, launches, hobo, w...</td>\n",
       "      <td>[handheld, hobo, drafthouse, launches, hobo, s...</td>\n",
       "      <td>[handheld, hobo, drafthous, launch, hobo, shot...</td>\n",
       "      <td>[handheld, hobo, drafthouse, launch, hobo, sho...</td>\n",
       "      <td>handheld hobo drafthouse launch hobo shotgun i...</td>\n",
       "    </tr>\n",
       "    <tr>\n",
       "      <th>64</th>\n",
       "      <td>Again Line at the Apple store is insane sxsw</td>\n",
       "      <td>NaN</td>\n",
       "      <td>Negative emotion</td>\n",
       "      <td>Apple</td>\n",
       "      <td>[again, line, at, the, apple, store, is, insan...</td>\n",
       "      <td>[line, apple, store, insane]</td>\n",
       "      <td>[line, appl, store, insan]</td>\n",
       "      <td>[line, apple, store, insane]</td>\n",
       "      <td>line apple store insane</td>\n",
       "    </tr>\n",
       "    <tr>\n",
       "      <th>68</th>\n",
       "      <td>Boooo Flipboard is developing an iPhone versio...</td>\n",
       "      <td>NaN</td>\n",
       "      <td>Negative emotion</td>\n",
       "      <td>Apple</td>\n",
       "      <td>[boooo, flipboard, is, developing, an, iphone,...</td>\n",
       "      <td>[boooo, flipboard, developing, iphone, version...</td>\n",
       "      <td>[boooo, flipboard, develop, iphon, version, an...</td>\n",
       "      <td>[boooo, flipboard, developing, iphone, version...</td>\n",
       "      <td>boooo flipboard developing iphone version andr...</td>\n",
       "    </tr>\n",
       "    <tr>\n",
       "      <th>103</th>\n",
       "      <td>Know that quotdatavizquot translates to quotsa...</td>\n",
       "      <td>NaN</td>\n",
       "      <td>Negative emotion</td>\n",
       "      <td>Apple</td>\n",
       "      <td>[know, that, quotdatavizquot, translates, to, ...</td>\n",
       "      <td>[know, quotdatavizquot, translates, quotsatani...</td>\n",
       "      <td>[know, quotdatavizquot, translat, quotsatanicq...</td>\n",
       "      <td>[know, quotdatavizquot, translates, quotsatani...</td>\n",
       "      <td>know quotdatavizquot translates quotsatanicquo...</td>\n",
       "    </tr>\n",
       "    <tr>\n",
       "      <th>112</th>\n",
       "      <td>Spark for android is up for a teamandroid awar...</td>\n",
       "      <td>NaN</td>\n",
       "      <td>Positive emotion</td>\n",
       "      <td>Google</td>\n",
       "      <td>[spark, for, android, is, up, for, a, teamandr...</td>\n",
       "      <td>[spark, android, teamandroid, award, read, link]</td>\n",
       "      <td>[spark, android, teamandroid, award, read, link]</td>\n",
       "      <td>[spark, android, teamandroid, award, read, link]</td>\n",
       "      <td>spark android teamandroid award read link</td>\n",
       "    </tr>\n",
       "    <tr>\n",
       "      <th>...</th>\n",
       "      <td>...</td>\n",
       "      <td>...</td>\n",
       "      <td>...</td>\n",
       "      <td>...</td>\n",
       "      <td>...</td>\n",
       "      <td>...</td>\n",
       "      <td>...</td>\n",
       "      <td>...</td>\n",
       "      <td>...</td>\n",
       "    </tr>\n",
       "    <tr>\n",
       "      <th>9011</th>\n",
       "      <td>apparently the line to get an iPad at the sxsw...</td>\n",
       "      <td>NaN</td>\n",
       "      <td>Positive emotion</td>\n",
       "      <td>Apple</td>\n",
       "      <td>[apparently, the, line, to, get, an, ipad, at,...</td>\n",
       "      <td>[apparently, line, get, ipad, store, grew, blo...</td>\n",
       "      <td>[appar, line, get, ipad, store, grew, block, b...</td>\n",
       "      <td>[apparently, line, get, ipad, store, grew, blo...</td>\n",
       "      <td>apparently line get ipad store grew block bloc...</td>\n",
       "    </tr>\n",
       "    <tr>\n",
       "      <th>9043</th>\n",
       "      <td>Hey is anyone doing sxsw signing up for the gr...</td>\n",
       "      <td>NaN</td>\n",
       "      <td>Negative emotion</td>\n",
       "      <td>Apple</td>\n",
       "      <td>[hey, is, anyone, doing, sxsw, signing, up, fo...</td>\n",
       "      <td>[hey, anyone, signing, group, texting, app, gr...</td>\n",
       "      <td>[hey, anyon, sign, group, text, app, groupm, g...</td>\n",
       "      <td>[hey, anyone, signing, group, texting, app, gr...</td>\n",
       "      <td>hey anyone signing group texting app groupme g...</td>\n",
       "    </tr>\n",
       "    <tr>\n",
       "      <th>9049</th>\n",
       "      <td>you can buy my used iPad and Ill pick one up ...</td>\n",
       "      <td>NaN</td>\n",
       "      <td>Positive emotion</td>\n",
       "      <td>Apple</td>\n",
       "      <td>[you, can, buy, my, used, ipad, and, ill, pick...</td>\n",
       "      <td>[buy, used, ipad, ill, pick, one, tomorrow]</td>\n",
       "      <td>[buy, use, ipad, ill, pick, one, tomorrow]</td>\n",
       "      <td>[buy, used, ipad, ill, pick, one, tomorrow]</td>\n",
       "      <td>buy used ipad ill pick one tomorrow</td>\n",
       "    </tr>\n",
       "    <tr>\n",
       "      <th>9052</th>\n",
       "      <td>You could buy a new iPad  tmrw at the Apple p...</td>\n",
       "      <td>NaN</td>\n",
       "      <td>Positive emotion</td>\n",
       "      <td>Apple</td>\n",
       "      <td>[you, could, buy, a, new, ipad, tmrw, at, the,...</td>\n",
       "      <td>[could, buy, new, ipad, tmrw, apple, popup, st...</td>\n",
       "      <td>[could, buy, new, ipad, tmrw, appl, popup, sto...</td>\n",
       "      <td>[could, buy, new, ipad, tmrw, apple, popup, st...</td>\n",
       "      <td>could buy new ipad tmrw apple popup store link</td>\n",
       "    </tr>\n",
       "    <tr>\n",
       "      <th>9054</th>\n",
       "      <td>Guys if you ever plan on attending SXSW you ne...</td>\n",
       "      <td>NaN</td>\n",
       "      <td>Positive emotion</td>\n",
       "      <td>Apple</td>\n",
       "      <td>[guys, if, you, ever, plan, on, attending, sxs...</td>\n",
       "      <td>[guys, ever, plan, attending, need, things, sk...</td>\n",
       "      <td>[guy, ever, plan, attend, need, thing, skinni,...</td>\n",
       "      <td>[guy, ever, plan, attending, need, thing, skin...</td>\n",
       "      <td>guy ever plan attending need thing skinny jean...</td>\n",
       "    </tr>\n",
       "  </tbody>\n",
       "</table>\n",
       "<p>357 rows × 9 columns</p>\n",
       "</div>"
      ],
      "text/plain": [
       "                                             tweet_text  \\\n",
       "46    HandHeld Û÷HoboÛª Drafthouse launches Û÷Hob...   \n",
       "64         Again Line at the Apple store is insane sxsw   \n",
       "68    Boooo Flipboard is developing an iPhone versio...   \n",
       "103   Know that quotdatavizquot translates to quotsa...   \n",
       "112   Spark for android is up for a teamandroid awar...   \n",
       "...                                                 ...   \n",
       "9011  apparently the line to get an iPad at the sxsw...   \n",
       "9043  Hey is anyone doing sxsw signing up for the gr...   \n",
       "9049   you can buy my used iPad and Ill pick one up ...   \n",
       "9052   You could buy a new iPad  tmrw at the Apple p...   \n",
       "9054  Guys if you ever plan on attending SXSW you ne...   \n",
       "\n",
       "     emotion_in_tweet_is_directed_at  \\\n",
       "46                               NaN   \n",
       "64                               NaN   \n",
       "68                               NaN   \n",
       "103                              NaN   \n",
       "112                              NaN   \n",
       "...                              ...   \n",
       "9011                             NaN   \n",
       "9043                             NaN   \n",
       "9049                             NaN   \n",
       "9052                             NaN   \n",
       "9054                             NaN   \n",
       "\n",
       "     is_there_an_emotion_directed_at_a_brand_or_product Product_Category  \\\n",
       "46                                     Positive emotion            Apple   \n",
       "64                                     Negative emotion            Apple   \n",
       "68                                     Negative emotion            Apple   \n",
       "103                                    Negative emotion            Apple   \n",
       "112                                    Positive emotion           Google   \n",
       "...                                                 ...              ...   \n",
       "9011                                   Positive emotion            Apple   \n",
       "9043                                   Negative emotion            Apple   \n",
       "9049                                   Positive emotion            Apple   \n",
       "9052                                   Positive emotion            Apple   \n",
       "9054                                   Positive emotion            Apple   \n",
       "\n",
       "                                        Tweet_tokenized  \\\n",
       "46    [handheld, hobo, drafthouse, launches, hobo, w...   \n",
       "64    [again, line, at, the, apple, store, is, insan...   \n",
       "68    [boooo, flipboard, is, developing, an, iphone,...   \n",
       "103   [know, that, quotdatavizquot, translates, to, ...   \n",
       "112   [spark, for, android, is, up, for, a, teamandr...   \n",
       "...                                                 ...   \n",
       "9011  [apparently, the, line, to, get, an, ipad, at,...   \n",
       "9043  [hey, is, anyone, doing, sxsw, signing, up, fo...   \n",
       "9049  [you, can, buy, my, used, ipad, and, ill, pick...   \n",
       "9052  [you, could, buy, a, new, ipad, tmrw, at, the,...   \n",
       "9054  [guys, if, you, ever, plan, on, attending, sxs...   \n",
       "\n",
       "                                          Tweet_nonstop  \\\n",
       "46    [handheld, hobo, drafthouse, launches, hobo, s...   \n",
       "64                         [line, apple, store, insane]   \n",
       "68    [boooo, flipboard, developing, iphone, version...   \n",
       "103   [know, quotdatavizquot, translates, quotsatani...   \n",
       "112    [spark, android, teamandroid, award, read, link]   \n",
       "...                                                 ...   \n",
       "9011  [apparently, line, get, ipad, store, grew, blo...   \n",
       "9043  [hey, anyone, signing, group, texting, app, gr...   \n",
       "9049        [buy, used, ipad, ill, pick, one, tomorrow]   \n",
       "9052  [could, buy, new, ipad, tmrw, apple, popup, st...   \n",
       "9054  [guys, ever, plan, attending, need, things, sk...   \n",
       "\n",
       "                                          Tweet_stemmed  \\\n",
       "46    [handheld, hobo, drafthous, launch, hobo, shot...   \n",
       "64                           [line, appl, store, insan]   \n",
       "68    [boooo, flipboard, develop, iphon, version, an...   \n",
       "103   [know, quotdatavizquot, translat, quotsatanicq...   \n",
       "112    [spark, android, teamandroid, award, read, link]   \n",
       "...                                                 ...   \n",
       "9011  [appar, line, get, ipad, store, grew, block, b...   \n",
       "9043  [hey, anyon, sign, group, text, app, groupm, g...   \n",
       "9049         [buy, use, ipad, ill, pick, one, tomorrow]   \n",
       "9052  [could, buy, new, ipad, tmrw, appl, popup, sto...   \n",
       "9054  [guy, ever, plan, attend, need, thing, skinni,...   \n",
       "\n",
       "                                            tweet_lemma  \\\n",
       "46    [handheld, hobo, drafthouse, launch, hobo, sho...   \n",
       "64                         [line, apple, store, insane]   \n",
       "68    [boooo, flipboard, developing, iphone, version...   \n",
       "103   [know, quotdatavizquot, translates, quotsatani...   \n",
       "112    [spark, android, teamandroid, award, read, link]   \n",
       "...                                                 ...   \n",
       "9011  [apparently, line, get, ipad, store, grew, blo...   \n",
       "9043  [hey, anyone, signing, group, texting, app, gr...   \n",
       "9049        [buy, used, ipad, ill, pick, one, tomorrow]   \n",
       "9052  [could, buy, new, ipad, tmrw, apple, popup, st...   \n",
       "9054  [guy, ever, plan, attending, need, thing, skin...   \n",
       "\n",
       "                                         lemma_sentence  \n",
       "46    handheld hobo drafthouse launch hobo shotgun i...  \n",
       "64                              line apple store insane  \n",
       "68    boooo flipboard developing iphone version andr...  \n",
       "103   know quotdatavizquot translates quotsatanicquo...  \n",
       "112           spark android teamandroid award read link  \n",
       "...                                                 ...  \n",
       "9011  apparently line get ipad store grew block bloc...  \n",
       "9043  hey anyone signing group texting app groupme g...  \n",
       "9049                buy used ipad ill pick one tomorrow  \n",
       "9052     could buy new ipad tmrw apple popup store link  \n",
       "9054  guy ever plan attending need thing skinny jean...  \n",
       "\n",
       "[357 rows x 9 columns]"
      ]
     },
     "execution_count": 53,
     "metadata": {},
     "output_type": "execute_result"
    }
   ],
   "source": [
    "df1[df1['emotion_in_tweet_is_directed_at'].isna()]"
   ]
  },
  {
   "cell_type": "code",
   "execution_count": 54,
   "metadata": {},
   "outputs": [
    {
     "data": {
      "text/plain": [
       "Apple     2401\n",
       "Google     865\n",
       "NAN        282\n",
       "Name: Product_Category, dtype: int64"
      ]
     },
     "execution_count": 54,
     "metadata": {},
     "output_type": "execute_result"
    }
   ],
   "source": [
    "df1['Product_Category'].value_counts()"
   ]
  },
  {
   "cell_type": "code",
   "execution_count": null,
   "metadata": {},
   "outputs": [],
   "source": []
  },
  {
   "cell_type": "markdown",
   "metadata": {},
   "source": [
    "# Train Test Split"
   ]
  },
  {
   "cell_type": "code",
   "execution_count": 55,
   "metadata": {},
   "outputs": [],
   "source": [
    "# splitting the training data into train and valid sets\n",
    "from sklearn.model_selection import train_test_split\n",
    "X = df1['lemma_sentence']\n",
    "y = df1['is_there_an_emotion_directed_at_a_brand_or_product']\n",
    "X_train, X_test, y_train, y_test = train_test_split(X, y, test_size = 0.25, random_state = 42)"
   ]
  },
  {
   "cell_type": "code",
   "execution_count": 190,
   "metadata": {},
   "outputs": [],
   "source": [
    "# Creating a count Vectorizer with default parameters \n",
    "from sklearn.feature_extraction.text import CountVectorizer\n",
    "vec = CountVectorizer()\n",
    "X_vec = vec.fit_transform(X_train)"
   ]
  },
  {
   "cell_type": "code",
   "execution_count": 57,
   "metadata": {},
   "outputs": [
    {
     "data": {
      "text/plain": [
       "array([0.84052533, 0.83646617, 0.84398496, 0.82706767, 0.83082707])"
      ]
     },
     "execution_count": 57,
     "metadata": {},
     "output_type": "execute_result"
    }
   ],
   "source": [
    "# Creating a basline model with naive bayes\n",
    "from sklearn.naive_bayes import MultinomialNB\n",
    "from sklearn.model_selection import cross_val_score\n",
    "# Instantiate a MultinomialNB classifier\n",
    "baseline_model = MultinomialNB()\n",
    "# Evaluate the classifier on X_train_vectorized and y_train\n",
    "baseline_cv = cross_val_score(baseline_model, X_vec , y_train)\n",
    "baseline_cv"
   ]
  },
  {
   "cell_type": "code",
   "execution_count": 58,
   "metadata": {},
   "outputs": [
    {
     "data": {
      "text/plain": [
       "0.8357742385983722"
      ]
     },
     "execution_count": 58,
     "metadata": {},
     "output_type": "execute_result"
    }
   ],
   "source": [
    "baseline_cv.mean()"
   ]
  },
  {
   "cell_type": "markdown",
   "metadata": {},
   "source": [
    "# Try more model classifier"
   ]
  },
  {
   "cell_type": "markdown",
   "metadata": {},
   "source": [
    "Here, we are trying to make default model classifier to see if the cross val score will have a great improvement compared with our baseline model. But it seems like there's no improvement with both random forest and decision tree model"
   ]
  },
  {
   "cell_type": "code",
   "execution_count": 60,
   "metadata": {},
   "outputs": [
    {
     "name": "stdout",
     "output_type": "stream",
     "text": [
      "Training Accuracy : 0.8729800826756858\n",
      "Testing Accuracy : 0.8376550169109357\n"
     ]
    }
   ],
   "source": [
    "# Instantiating a default Random Forest Classifier\n",
    "from sklearn.ensemble import RandomForestClassifier\n",
    "from sklearn.metrics import confusion_matrix\n",
    "from sklearn.metrics import f1_score\n",
    "model0 = RandomForestClassifier(random_state=42)\n",
    "model0.fit(X_vec, y_train)\n",
    "y_pred0 = model0.predict(X_t_vec)\n",
    "print(\"Training Accuracy :\", model0.score(X_vec, y_train))\n",
    "print(\"Testing Accuracy :\", model0.score(X_t_vec, y_test))\n"
   ]
  },
  {
   "cell_type": "code",
   "execution_count": 61,
   "metadata": {},
   "outputs": [
    {
     "data": {
      "text/plain": [
       "0.8335214208128201"
      ]
     },
     "execution_count": 61,
     "metadata": {},
     "output_type": "execute_result"
    }
   ],
   "source": [
    "# Evaluate the classifier\n",
    "ran0_cv = cross_val_score(model0, X_vec, y_train, cv=5)\n",
    "ran0_cv.mean()"
   ]
  },
  {
   "cell_type": "code",
   "execution_count": null,
   "metadata": {},
   "outputs": [],
   "source": []
  },
  {
   "cell_type": "code",
   "execution_count": 62,
   "metadata": {},
   "outputs": [
    {
     "name": "stdout",
     "output_type": "stream",
     "text": [
      "Training Accuracy : 0.8729800826756858\n",
      "Testing Accuracy : 0.8297632468996617\n"
     ]
    }
   ],
   "source": [
    "# Instantiating a default Decision Tree Classifier\n",
    "from sklearn.tree import DecisionTreeClassifier\n",
    "model0_de = DecisionTreeClassifier()\n",
    "model0_de.fit(X_vec, y_train)\n",
    "y_pred0_de = model0_de.predict(X_t_vec)\n",
    "print(\"Training Accuracy :\", model0_de.score(X_vec, y_train))\n",
    "print(\"Testing Accuracy :\", model0_de.score(X_t_vec, y_test))\n"
   ]
  },
  {
   "cell_type": "code",
   "execution_count": 63,
   "metadata": {},
   "outputs": [
    {
     "data": {
      "text/plain": [
       "0.8173637658875142"
      ]
     },
     "execution_count": 63,
     "metadata": {},
     "output_type": "execute_result"
    }
   ],
   "source": [
    "# Evaluate the classifier\n",
    "dt1_cv = cross_val_score(model0_de, X_vec, y_train, cv=5)\n",
    "dt1_cv.mean()"
   ]
  },
  {
   "cell_type": "markdown",
   "metadata": {},
   "source": [
    "# Grid search"
   ]
  },
  {
   "cell_type": "markdown",
   "metadata": {},
   "source": [
    "Since the defalut random forest and decision tree model didn't have agood result. We thought about this problems and decided to use grid search on Count vecterizer to see if we can get a better result."
   ]
  },
  {
   "cell_type": "markdown",
   "metadata": {},
   "source": [
    "After we did the grid search for Count vecterizer, we found the best parameter as {ngram_range = (1,2), min_df= 2}. By applying these parameter, the result improved with cross val score as 0.870"
   ]
  },
  {
   "cell_type": "code",
   "execution_count": 64,
   "metadata": {
    "scrolled": true
   },
   "outputs": [],
   "source": [
    "# Instantiating Count vectorizer with updated parameters\n",
    "vec1 = CountVectorizer(ngram_range = (1,2), min_df= 2)\n",
    "X1_vec = vec1.fit_transform(X_train)\n"
   ]
  },
  {
   "cell_type": "code",
   "execution_count": 65,
   "metadata": {},
   "outputs": [
    {
     "data": {
      "text/plain": [
       "0.8707295913329289"
      ]
     },
     "execution_count": 65,
     "metadata": {},
     "output_type": "execute_result"
    }
   ],
   "source": [
    "# Evaluate the classifier\n",
    "ran1_cv = cross_val_score(model0, X1_vec, y_train, cv=5)\n",
    "ran1_cv.mean()"
   ]
  },
  {
   "cell_type": "markdown",
   "metadata": {},
   "source": [
    "Now it's time to do some grid search for random forest. Here we trying more then ten grid searches and the grid search below was our best one. This was a very long grid search and took 663 min to run it through. The cross val score increased from 0.807 to 0.877"
   ]
  },
  {
   "cell_type": "code",
   "execution_count": 238,
   "metadata": {},
   "outputs": [],
   "source": [
    "# Grid search for random forest parameters\n",
    "grid4 = {'bootstrap': [True, False],\n",
    " 'max_depth': [10, 20, 30, 40, 50, 60, 70, 80, 90, 100, None],\n",
    " 'max_features': ['auto', 'sqrt'],\n",
    " 'min_samples_leaf': [1, 2, 4],\n",
    " 'min_samples_split': [2, 5, 10],\n",
    " 'n_estimators': [200, 400, 600, 800, 1000, 1200, 1400, 1600, 1800, 2000]}\n",
    "\n",
    "gs4 = GridSearchCV(estimator=RandomForestClassifier(),\n",
    "                 param_grid=grid4,\n",
    "                 cv=5,\n",
    "                 verbose=3,\n",
    "                 n_jobs=-2)"
   ]
  },
  {
   "cell_type": "code",
   "execution_count": 239,
   "metadata": {
    "scrolled": true
   },
   "outputs": [
    {
     "name": "stdout",
     "output_type": "stream",
     "text": [
      "Fitting 5 folds for each of 3960 candidates, totalling 19800 fits\n"
     ]
    },
    {
     "name": "stderr",
     "output_type": "stream",
     "text": [
      "[Parallel(n_jobs=-2)]: Using backend LokyBackend with 7 concurrent workers.\n",
      "[Parallel(n_jobs=-2)]: Done  18 tasks      | elapsed:    6.8s\n",
      "[Parallel(n_jobs=-2)]: Done 114 tasks      | elapsed:  1.2min\n",
      "[Parallel(n_jobs=-2)]: Done 274 tasks      | elapsed:  3.2min\n",
      "[Parallel(n_jobs=-2)]: Done 498 tasks      | elapsed:  6.0min\n",
      "[Parallel(n_jobs=-2)]: Done 786 tasks      | elapsed:  9.4min\n",
      "[Parallel(n_jobs=-2)]: Done 1138 tasks      | elapsed: 14.8min\n",
      "[Parallel(n_jobs=-2)]: Done 1554 tasks      | elapsed: 22.8min\n",
      "[Parallel(n_jobs=-2)]: Done 2034 tasks      | elapsed: 33.6min\n",
      "[Parallel(n_jobs=-2)]: Done 2578 tasks      | elapsed: 44.6min\n",
      "[Parallel(n_jobs=-2)]: Done 3186 tasks      | elapsed: 59.0min\n",
      "[Parallel(n_jobs=-2)]: Done 3858 tasks      | elapsed: 76.8min\n",
      "[Parallel(n_jobs=-2)]: Done 4594 tasks      | elapsed: 97.4min\n",
      "[Parallel(n_jobs=-2)]: Done 5394 tasks      | elapsed: 120.0min\n",
      "[Parallel(n_jobs=-2)]: Done 6258 tasks      | elapsed: 147.1min\n",
      "[Parallel(n_jobs=-2)]: Done 7186 tasks      | elapsed: 177.8min\n",
      "[Parallel(n_jobs=-2)]: Done 8178 tasks      | elapsed: 212.7min\n",
      "[Parallel(n_jobs=-2)]: Done 9234 tasks      | elapsed: 252.8min\n",
      "[Parallel(n_jobs=-2)]: Done 10354 tasks      | elapsed: 282.1min\n",
      "[Parallel(n_jobs=-2)]: Done 11538 tasks      | elapsed: 301.7min\n",
      "[Parallel(n_jobs=-2)]: Done 12786 tasks      | elapsed: 333.2min\n",
      "[Parallel(n_jobs=-2)]: Done 14098 tasks      | elapsed: 375.8min\n",
      "[Parallel(n_jobs=-2)]: Done 15474 tasks      | elapsed: 428.2min\n",
      "[Parallel(n_jobs=-2)]: Done 16914 tasks      | elapsed: 500.7min\n",
      "[Parallel(n_jobs=-2)]: Done 18418 tasks      | elapsed: 581.9min\n",
      "[Parallel(n_jobs=-2)]: Done 19800 out of 19800 | elapsed: 663.0min finished\n"
     ]
    },
    {
     "data": {
      "text/plain": [
       "GridSearchCV(cv=5, estimator=RandomForestClassifier(), n_jobs=-2,\n",
       "             param_grid={'bootstrap': [True, False],\n",
       "                         'max_depth': [10, 20, 30, 40, 50, 60, 70, 80, 90, 100,\n",
       "                                       None],\n",
       "                         'max_features': ['auto', 'sqrt'],\n",
       "                         'min_samples_leaf': [1, 2, 4],\n",
       "                         'min_samples_split': [2, 5, 10],\n",
       "                         'n_estimators': [200, 400, 600, 800, 1000, 1200, 1400,\n",
       "                                          1600, 1800, 2000]},\n",
       "             verbose=3)"
      ]
     },
     "execution_count": 239,
     "metadata": {},
     "output_type": "execute_result"
    }
   ],
   "source": [
    "gs4.fit(X1_vec,y_train)"
   ]
  },
  {
   "cell_type": "code",
   "execution_count": 240,
   "metadata": {
    "scrolled": true
   },
   "outputs": [
    {
     "data": {
      "text/plain": [
       "{'bootstrap': False,\n",
       " 'max_depth': None,\n",
       " 'max_features': 'sqrt',\n",
       " 'min_samples_leaf': 1,\n",
       " 'min_samples_split': 5,\n",
       " 'n_estimators': 200}"
      ]
     },
     "execution_count": 240,
     "metadata": {},
     "output_type": "execute_result"
    }
   ],
   "source": [
    "gs4.best_params_"
   ]
  },
  {
   "cell_type": "code",
   "execution_count": 241,
   "metadata": {
    "scrolled": true
   },
   "outputs": [
    {
     "data": {
      "text/plain": [
       "0.8774915713298256"
      ]
     },
     "execution_count": 241,
     "metadata": {},
     "output_type": "execute_result"
    }
   ],
   "source": [
    "gs4.best_score_"
   ]
  },
  {
   "cell_type": "code",
   "execution_count": null,
   "metadata": {},
   "outputs": [],
   "source": []
  },
  {
   "cell_type": "markdown",
   "metadata": {},
   "source": [
    "# Final model"
   ]
  },
  {
   "cell_type": "markdown",
   "metadata": {},
   "source": [
    "For our final model, the best parameters for both vecterizer abd random forest model both showed below"
   ]
  },
  {
   "cell_type": "markdown",
   "metadata": {},
   "source": [
    "Best parameter for Count vecterizer   :\n",
    "{ngram_range : (1,2),\n",
    "  min_df : 2}"
   ]
  },
  {
   "cell_type": "markdown",
   "metadata": {},
   "source": [
    "Best parameter for random forest : \n",
    "{'bootstrap': False, \n",
    " 'max_depth': None, \n",
    " 'max_features': 'sqrt',\n",
    " 'min_samples_leaf': 1,\n",
    " 'min_samples_split': 5,\n",
    " 'n_estimators': 200}"
   ]
  },
  {
   "cell_type": "code",
   "execution_count": 243,
   "metadata": {
    "scrolled": false
   },
   "outputs": [],
   "source": [
    "# Instantiating Random forest Classifier with best parameters\n",
    "rf_final = RandomForestClassifier(bootstrap = False, max_depth = None, max_features = 'sqrt', min_samples_leaf= 1, min_samples_split= 5, n_estimators = 200)"
   ]
  },
  {
   "cell_type": "code",
   "execution_count": 244,
   "metadata": {},
   "outputs": [
    {
     "data": {
      "text/plain": [
       "0.8741102286673532"
      ]
     },
     "execution_count": 244,
     "metadata": {},
     "output_type": "execute_result"
    }
   ],
   "source": [
    "# Evaluate the classifier for final model\n",
    "cv_f = cross_val_score(rf_final, X1_vec, y_train)\n",
    "cv_f.mean()"
   ]
  },
  {
   "cell_type": "code",
   "execution_count": null,
   "metadata": {},
   "outputs": [],
   "source": []
  },
  {
   "cell_type": "code",
   "execution_count": 245,
   "metadata": {
    "scrolled": true
   },
   "outputs": [
    {
     "data": {
      "text/plain": [
       "RandomForestClassifier(bootstrap=False, max_features='sqrt',\n",
       "                       min_samples_split=5, n_estimators=200)"
      ]
     },
     "execution_count": 245,
     "metadata": {},
     "output_type": "execute_result"
    }
   ],
   "source": [
    "rf_final.fit(X1_vec, y_train)"
   ]
  },
  {
   "cell_type": "code",
   "execution_count": 246,
   "metadata": {},
   "outputs": [],
   "source": [
    "y_pred_rf_final = rf_final.predict(X1_vec)"
   ]
  },
  {
   "cell_type": "code",
   "execution_count": 247,
   "metadata": {
    "scrolled": true
   },
   "outputs": [],
   "source": [
    "test_vec = vec1.transform(X_test)"
   ]
  },
  {
   "cell_type": "code",
   "execution_count": 248,
   "metadata": {},
   "outputs": [],
   "source": [
    "test_pred = rf_final.predict(test_vec)"
   ]
  },
  {
   "cell_type": "code",
   "execution_count": 249,
   "metadata": {},
   "outputs": [
    {
     "data": {
      "text/plain": [
       "0.8850056369785795"
      ]
     },
     "execution_count": 249,
     "metadata": {},
     "output_type": "execute_result"
    }
   ],
   "source": [
    "# accuracy score for final model\n",
    "accuracy_score(y_test, test_pred)"
   ]
  },
  {
   "cell_type": "code",
   "execution_count": 250,
   "metadata": {
    "scrolled": true
   },
   "outputs": [
    {
     "name": "stdout",
     "output_type": "stream",
     "text": [
      "                  precision    recall  f1-score   support\n",
      "\n",
      "Negative emotion       0.81      0.34      0.47       137\n",
      "Positive emotion       0.89      0.99      0.94       750\n",
      "\n",
      "        accuracy                           0.89       887\n",
      "       macro avg       0.85      0.66      0.70       887\n",
      "    weighted avg       0.88      0.89      0.86       887\n",
      "\n"
     ]
    }
   ],
   "source": [
    "# classification report for final model\n",
    "print(classification_report(y_test, test_pred))"
   ]
  },
  {
   "cell_type": "code",
   "execution_count": 178,
   "metadata": {},
   "outputs": [
    {
     "data": {
      "image/png": "[encoded data removed]",
      "text/plain": [
       "<Figure size 432x288 with 2 Axes>"
      ]
     },
     "metadata": {
      "needs_background": "light"
     },
     "output_type": "display_data"
    }
   ],
   "source": [
    "# creating confusion matrix for final model\n",
    "fig, ax = plt.subplots()\n",
    "\n",
    "fig.suptitle(\"Final Model\")\n",
    "\n",
    "plot_confusion_matrix(rf_final, test_vec, y_test, ax=ax, cmap=\"plasma\");"
   ]
  },
  {
   "cell_type": "code",
   "execution_count": null,
   "metadata": {},
   "outputs": [],
   "source": []
  },
  {
   "cell_type": "markdown",
   "metadata": {},
   "source": [
    "# Visuals"
   ]
  },
  {
   "cell_type": "code",
   "execution_count": 206,
   "metadata": {},
   "outputs": [
    {
     "data": {
      "image/png": "[encoded data removed]",
      "text/plain": [
       "<Figure size 432x288 with 1 Axes>"
      ]
     },
     "metadata": {
      "needs_background": "light"
     },
     "output_type": "display_data"
    }
   ],
   "source": [
    "x_acc = ['Final Model', 'Baseline Model']\n",
    "y_acc = [88.501,83.577]\n",
    "plt.bar(x = x_acc, height = y_acc, color=['#1DA1F2', 'red'])\n",
    "plt.xticks(rotation=35, ha=\"right\", rotation_mode='anchor')\n",
    "plt.ylim([80, 90])\n",
    "plt.ylabel('Percentage')\n",
    "plt.gca().yaxis.set_major_formatter(plt.matplotlib.ticker.StrMethodFormatter('{x:,.0f}'))\n",
    "plt.title(\"Accuracy Scores\")\n",
    "plt.savefig('./accurancy_score.png', bbox_inches='tight');"
   ]
  },
  {
   "cell_type": "markdown",
   "metadata": {},
   "source": [
    "We found out that the accuracy score is 83.577 for the baseline model. The best score for final model is 88.500 which was not a big improvement from the original data but it’s a pretty solid number closed to 90%."
   ]
  },
  {
   "cell_type": "code",
   "execution_count": 207,
   "metadata": {},
   "outputs": [
    {
     "data": {
      "image/png": "[encoded data removed]",
      "text/plain": [
       "<Figure size 432x288 with 1 Axes>"
      ]
     },
     "metadata": {
      "needs_background": "light"
     },
     "output_type": "display_data"
    },
    {
     "data": {
      "text/plain": [
       "<Figure size 432x288 with 0 Axes>"
      ]
     },
     "metadata": {},
     "output_type": "display_data"
    }
   ],
   "source": [
    "labels = ['Positive', 'Negative']\n",
    "co = [ 736, 47]\n",
    "not_co = [14, 90]\n",
    "width = 0.45\n",
    "\n",
    "fig, ax = plt.subplots()\n",
    "\n",
    "ax.bar(labels, co, width, label='Accurate Predictions', color='#1DA1F2')\n",
    "ax.bar(labels, not_co, width, bottom=co,\n",
    "       label='inaccurate Predictions', color='red')\n",
    "\n",
    "ax.annotate('98%',xy=(45, 150), xycoords='axes pixels', fontsize=15)\n",
    "ax.annotate('34%',xy=(260, 4), xycoords='axes pixels', fontsize=10)\n",
    "\n",
    "ax.set_ylabel('Emotion counts')\n",
    "ax.set_title('Check if the predictions are accurate')\n",
    "ax.legend()\n",
    "\n",
    "\n",
    "\n",
    "plt.show();\n",
    "plt.savefig('./predictions.png', bbox_inches='tight');"
   ]
  },
  {
   "cell_type": "markdown",
   "metadata": {},
   "source": [
    "The accurate prediction for positive emotion was great, but the model didn’t have a good performance with the negative emotion. The size of the dataset was one big reason for this. There are over 9000 rows for the original dataset but after we drop nans and filter row with only positive and negative emotions, only 3000 rows left. The model could have a better performance with more data points."
   ]
  },
  {
   "cell_type": "code",
   "execution_count": 194,
   "metadata": {
    "scrolled": true
   },
   "outputs": [
    {
     "data": {
      "text/plain": [
       "Apple     5263\n",
       "Google    2481\n",
       "NAN       1348\n",
       "Name: Product_Category, dtype: int64"
      ]
     },
     "execution_count": 194,
     "metadata": {},
     "output_type": "execute_result"
    }
   ],
   "source": [
    "df['Product_Category'].value_counts()"
   ]
  },
  {
   "cell_type": "code",
   "execution_count": 208,
   "metadata": {},
   "outputs": [
    {
     "data": {
      "image/png": "[encoded data removed]",
      "text/plain": [
       "<Figure size 432x288 with 1 Axes>"
      ]
     },
     "metadata": {
      "needs_background": "light"
     },
     "output_type": "display_data"
    }
   ],
   "source": [
    "x_acc = ['Original dataset', 'After applying function']\n",
    "y_acc = [5389,1348]\n",
    "plt.bar(x = x_acc, height = y_acc, color=['#1DA1F2', 'red'])\n",
    "plt.xticks(rotation=35, ha=\"right\", rotation_mode='anchor')\n",
    "plt.ylabel('Counts')\n",
    "plt.gca().yaxis.set_major_formatter(plt.matplotlib.ticker.StrMethodFormatter('{x:,.0f}'))\n",
    "plt.title(\"NaN counts\")\n",
    "plt.savefig('./check_nan.png', bbox_inches='tight');"
   ]
  },
  {
   "cell_type": "markdown",
   "metadata": {},
   "source": [
    "# Limitation and future plan"
   ]
  },
  {
   "cell_type": "markdown",
   "metadata": {},
   "source": [
    "For the limitation, the biggest limitation would be data point as I mentioned. Something about the original data was not that good so We create a function trying to find product category better and only have 1348 nans which is 4000 nans less compared with the original dataset. Another limitation would be the percentage of positive emotion is very high shown from the previous slides. So, in the future with more time and money, we want to add more datapoints and continue refining the model. Maybe trying multi class model with neutral emotion to make our model more powerful."
   ]
  },
  {
   "cell_type": "markdown",
   "metadata": {},
   "source": [
    "# Conclusion"
   ]
  },
  {
   "cell_type": "markdown",
   "metadata": {},
   "source": [
    "In conclusion, our model had a solid performance about predicting the emotion from a tweet. By using our model, Apple marking department could instantly find out the thoughts from people about specific product like ipad or iphone. And then they can decide if are going to Increase production on products who with more positive emotion. Or maybe contact technical department to make improvement on products with more negative emotion."
   ]
  }
 ],
 "metadata": {
  "kernelspec": {
   "display_name": "Python (learn-env)",
   "language": "python",
   "name": "learn-env"
  },
  "language_info": {
   "codemirror_mode": {
    "name": "ipython",
    "version": 3
   },
   "file_extension": ".py",
   "mimetype": "text/x-python",
   "name": "python",
   "nbconvert_exporter": "python",
   "pygments_lexer": "ipython3",
   "version": "3.8.5"
  }
 },
 "nbformat": 4,
 "nbformat_minor": 4
}
